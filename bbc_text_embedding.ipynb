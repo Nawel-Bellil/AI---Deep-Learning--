{
  "nbformat": 4,
  "nbformat_minor": 0,
  "metadata": {
    "colab": {
      "provenance": [],
      "authorship_tag": "ABX9TyPRFF8H/ZuwjemPSIm7Z7dp",
      "include_colab_link": true
    },
    "kernelspec": {
      "name": "python3",
      "display_name": "Python 3"
    },
    "language_info": {
      "name": "python"
    },
    "widgets": {
      "application/vnd.jupyter.widget-state+json": {
        "24a032bb0d08406f9f7c37e11a82cb8d": {
          "model_module": "@jupyter-widgets/controls",
          "model_name": "HBoxModel",
          "model_module_version": "1.5.0",
          "state": {
            "_dom_classes": [],
            "_model_module": "@jupyter-widgets/controls",
            "_model_module_version": "1.5.0",
            "_model_name": "HBoxModel",
            "_view_count": null,
            "_view_module": "@jupyter-widgets/controls",
            "_view_module_version": "1.5.0",
            "_view_name": "HBoxView",
            "box_style": "",
            "children": [
              "IPY_MODEL_770ef16124ce4c4597d70170fe3af43e",
              "IPY_MODEL_fde62ab0856f48748d78f253f675b322",
              "IPY_MODEL_7b1b36ffd78d4492be09d5e6ed9a4e60"
            ],
            "layout": "IPY_MODEL_77d46da0f1334e62bf1930cebb8ec53d"
          }
        },
        "770ef16124ce4c4597d70170fe3af43e": {
          "model_module": "@jupyter-widgets/controls",
          "model_name": "HTMLModel",
          "model_module_version": "1.5.0",
          "state": {
            "_dom_classes": [],
            "_model_module": "@jupyter-widgets/controls",
            "_model_module_version": "1.5.0",
            "_model_name": "HTMLModel",
            "_view_count": null,
            "_view_module": "@jupyter-widgets/controls",
            "_view_module_version": "1.5.0",
            "_view_name": "HTMLView",
            "description": "",
            "description_tooltip": null,
            "layout": "IPY_MODEL_d78b084186f74ede8824f1609eb55b48",
            "placeholder": "​",
            "style": "IPY_MODEL_cc9ddab84bfb4109b133d4ccd81854e6",
            "value": "Batches: 100%"
          }
        },
        "fde62ab0856f48748d78f253f675b322": {
          "model_module": "@jupyter-widgets/controls",
          "model_name": "FloatProgressModel",
          "model_module_version": "1.5.0",
          "state": {
            "_dom_classes": [],
            "_model_module": "@jupyter-widgets/controls",
            "_model_module_version": "1.5.0",
            "_model_name": "FloatProgressModel",
            "_view_count": null,
            "_view_module": "@jupyter-widgets/controls",
            "_view_module_version": "1.5.0",
            "_view_name": "ProgressView",
            "bar_style": "success",
            "description": "",
            "description_tooltip": null,
            "layout": "IPY_MODEL_253ac16b00be430284a2a2ebd4f2ee6c",
            "max": 4,
            "min": 0,
            "orientation": "horizontal",
            "style": "IPY_MODEL_331612f1a3e6485a9bf716659857489f",
            "value": 4
          }
        },
        "7b1b36ffd78d4492be09d5e6ed9a4e60": {
          "model_module": "@jupyter-widgets/controls",
          "model_name": "HTMLModel",
          "model_module_version": "1.5.0",
          "state": {
            "_dom_classes": [],
            "_model_module": "@jupyter-widgets/controls",
            "_model_module_version": "1.5.0",
            "_model_name": "HTMLModel",
            "_view_count": null,
            "_view_module": "@jupyter-widgets/controls",
            "_view_module_version": "1.5.0",
            "_view_name": "HTMLView",
            "description": "",
            "description_tooltip": null,
            "layout": "IPY_MODEL_ab02f61989c040f4a1d8560442a4d1d9",
            "placeholder": "​",
            "style": "IPY_MODEL_d573e57a1245433883666212b51f05f5",
            "value": " 4/4 [00:01&lt;00:00,  1.90it/s]"
          }
        },
        "77d46da0f1334e62bf1930cebb8ec53d": {
          "model_module": "@jupyter-widgets/base",
          "model_name": "LayoutModel",
          "model_module_version": "1.2.0",
          "state": {
            "_model_module": "@jupyter-widgets/base",
            "_model_module_version": "1.2.0",
            "_model_name": "LayoutModel",
            "_view_count": null,
            "_view_module": "@jupyter-widgets/base",
            "_view_module_version": "1.2.0",
            "_view_name": "LayoutView",
            "align_content": null,
            "align_items": null,
            "align_self": null,
            "border": null,
            "bottom": null,
            "display": null,
            "flex": null,
            "flex_flow": null,
            "grid_area": null,
            "grid_auto_columns": null,
            "grid_auto_flow": null,
            "grid_auto_rows": null,
            "grid_column": null,
            "grid_gap": null,
            "grid_row": null,
            "grid_template_areas": null,
            "grid_template_columns": null,
            "grid_template_rows": null,
            "height": null,
            "justify_content": null,
            "justify_items": null,
            "left": null,
            "margin": null,
            "max_height": null,
            "max_width": null,
            "min_height": null,
            "min_width": null,
            "object_fit": null,
            "object_position": null,
            "order": null,
            "overflow": null,
            "overflow_x": null,
            "overflow_y": null,
            "padding": null,
            "right": null,
            "top": null,
            "visibility": null,
            "width": null
          }
        },
        "d78b084186f74ede8824f1609eb55b48": {
          "model_module": "@jupyter-widgets/base",
          "model_name": "LayoutModel",
          "model_module_version": "1.2.0",
          "state": {
            "_model_module": "@jupyter-widgets/base",
            "_model_module_version": "1.2.0",
            "_model_name": "LayoutModel",
            "_view_count": null,
            "_view_module": "@jupyter-widgets/base",
            "_view_module_version": "1.2.0",
            "_view_name": "LayoutView",
            "align_content": null,
            "align_items": null,
            "align_self": null,
            "border": null,
            "bottom": null,
            "display": null,
            "flex": null,
            "flex_flow": null,
            "grid_area": null,
            "grid_auto_columns": null,
            "grid_auto_flow": null,
            "grid_auto_rows": null,
            "grid_column": null,
            "grid_gap": null,
            "grid_row": null,
            "grid_template_areas": null,
            "grid_template_columns": null,
            "grid_template_rows": null,
            "height": null,
            "justify_content": null,
            "justify_items": null,
            "left": null,
            "margin": null,
            "max_height": null,
            "max_width": null,
            "min_height": null,
            "min_width": null,
            "object_fit": null,
            "object_position": null,
            "order": null,
            "overflow": null,
            "overflow_x": null,
            "overflow_y": null,
            "padding": null,
            "right": null,
            "top": null,
            "visibility": null,
            "width": null
          }
        },
        "cc9ddab84bfb4109b133d4ccd81854e6": {
          "model_module": "@jupyter-widgets/controls",
          "model_name": "DescriptionStyleModel",
          "model_module_version": "1.5.0",
          "state": {
            "_model_module": "@jupyter-widgets/controls",
            "_model_module_version": "1.5.0",
            "_model_name": "DescriptionStyleModel",
            "_view_count": null,
            "_view_module": "@jupyter-widgets/base",
            "_view_module_version": "1.2.0",
            "_view_name": "StyleView",
            "description_width": ""
          }
        },
        "253ac16b00be430284a2a2ebd4f2ee6c": {
          "model_module": "@jupyter-widgets/base",
          "model_name": "LayoutModel",
          "model_module_version": "1.2.0",
          "state": {
            "_model_module": "@jupyter-widgets/base",
            "_model_module_version": "1.2.0",
            "_model_name": "LayoutModel",
            "_view_count": null,
            "_view_module": "@jupyter-widgets/base",
            "_view_module_version": "1.2.0",
            "_view_name": "LayoutView",
            "align_content": null,
            "align_items": null,
            "align_self": null,
            "border": null,
            "bottom": null,
            "display": null,
            "flex": null,
            "flex_flow": null,
            "grid_area": null,
            "grid_auto_columns": null,
            "grid_auto_flow": null,
            "grid_auto_rows": null,
            "grid_column": null,
            "grid_gap": null,
            "grid_row": null,
            "grid_template_areas": null,
            "grid_template_columns": null,
            "grid_template_rows": null,
            "height": null,
            "justify_content": null,
            "justify_items": null,
            "left": null,
            "margin": null,
            "max_height": null,
            "max_width": null,
            "min_height": null,
            "min_width": null,
            "object_fit": null,
            "object_position": null,
            "order": null,
            "overflow": null,
            "overflow_x": null,
            "overflow_y": null,
            "padding": null,
            "right": null,
            "top": null,
            "visibility": null,
            "width": null
          }
        },
        "331612f1a3e6485a9bf716659857489f": {
          "model_module": "@jupyter-widgets/controls",
          "model_name": "ProgressStyleModel",
          "model_module_version": "1.5.0",
          "state": {
            "_model_module": "@jupyter-widgets/controls",
            "_model_module_version": "1.5.0",
            "_model_name": "ProgressStyleModel",
            "_view_count": null,
            "_view_module": "@jupyter-widgets/base",
            "_view_module_version": "1.2.0",
            "_view_name": "StyleView",
            "bar_color": null,
            "description_width": ""
          }
        },
        "ab02f61989c040f4a1d8560442a4d1d9": {
          "model_module": "@jupyter-widgets/base",
          "model_name": "LayoutModel",
          "model_module_version": "1.2.0",
          "state": {
            "_model_module": "@jupyter-widgets/base",
            "_model_module_version": "1.2.0",
            "_model_name": "LayoutModel",
            "_view_count": null,
            "_view_module": "@jupyter-widgets/base",
            "_view_module_version": "1.2.0",
            "_view_name": "LayoutView",
            "align_content": null,
            "align_items": null,
            "align_self": null,
            "border": null,
            "bottom": null,
            "display": null,
            "flex": null,
            "flex_flow": null,
            "grid_area": null,
            "grid_auto_columns": null,
            "grid_auto_flow": null,
            "grid_auto_rows": null,
            "grid_column": null,
            "grid_gap": null,
            "grid_row": null,
            "grid_template_areas": null,
            "grid_template_columns": null,
            "grid_template_rows": null,
            "height": null,
            "justify_content": null,
            "justify_items": null,
            "left": null,
            "margin": null,
            "max_height": null,
            "max_width": null,
            "min_height": null,
            "min_width": null,
            "object_fit": null,
            "object_position": null,
            "order": null,
            "overflow": null,
            "overflow_x": null,
            "overflow_y": null,
            "padding": null,
            "right": null,
            "top": null,
            "visibility": null,
            "width": null
          }
        },
        "d573e57a1245433883666212b51f05f5": {
          "model_module": "@jupyter-widgets/controls",
          "model_name": "DescriptionStyleModel",
          "model_module_version": "1.5.0",
          "state": {
            "_model_module": "@jupyter-widgets/controls",
            "_model_module_version": "1.5.0",
            "_model_name": "DescriptionStyleModel",
            "_view_count": null,
            "_view_module": "@jupyter-widgets/base",
            "_view_module_version": "1.2.0",
            "_view_name": "StyleView",
            "description_width": ""
          }
        },
        "f06acbff1b174a5db0abf8b9b58c7c76": {
          "model_module": "@jupyter-widgets/controls",
          "model_name": "HBoxModel",
          "model_module_version": "1.5.0",
          "state": {
            "_dom_classes": [],
            "_model_module": "@jupyter-widgets/controls",
            "_model_module_version": "1.5.0",
            "_model_name": "HBoxModel",
            "_view_count": null,
            "_view_module": "@jupyter-widgets/controls",
            "_view_module_version": "1.5.0",
            "_view_name": "HBoxView",
            "box_style": "",
            "children": [
              "IPY_MODEL_91b586a23fe94f2f8648def857ab4de0",
              "IPY_MODEL_8e05785235ac4c659e379559a732d7e5",
              "IPY_MODEL_89e74a85e3d946dd893320ddbbfb454d"
            ],
            "layout": "IPY_MODEL_90401946a30d49fdbc7ef315116e9ea9"
          }
        },
        "91b586a23fe94f2f8648def857ab4de0": {
          "model_module": "@jupyter-widgets/controls",
          "model_name": "HTMLModel",
          "model_module_version": "1.5.0",
          "state": {
            "_dom_classes": [],
            "_model_module": "@jupyter-widgets/controls",
            "_model_module_version": "1.5.0",
            "_model_name": "HTMLModel",
            "_view_count": null,
            "_view_module": "@jupyter-widgets/controls",
            "_view_module_version": "1.5.0",
            "_view_name": "HTMLView",
            "description": "",
            "description_tooltip": null,
            "layout": "IPY_MODEL_1a92add4a38740f8b93478d663bbcd72",
            "placeholder": "​",
            "style": "IPY_MODEL_afbae800298a46d1b1abfe15d30c8c37",
            "value": "Batches: 100%"
          }
        },
        "8e05785235ac4c659e379559a732d7e5": {
          "model_module": "@jupyter-widgets/controls",
          "model_name": "FloatProgressModel",
          "model_module_version": "1.5.0",
          "state": {
            "_dom_classes": [],
            "_model_module": "@jupyter-widgets/controls",
            "_model_module_version": "1.5.0",
            "_model_name": "FloatProgressModel",
            "_view_count": null,
            "_view_module": "@jupyter-widgets/controls",
            "_view_module_version": "1.5.0",
            "_view_name": "ProgressView",
            "bar_style": "success",
            "description": "",
            "description_tooltip": null,
            "layout": "IPY_MODEL_4d9f517f6c9941719bad1da0eb9c6df3",
            "max": 1,
            "min": 0,
            "orientation": "horizontal",
            "style": "IPY_MODEL_54553a7d403a494b9270097f4995b0a4",
            "value": 1
          }
        },
        "89e74a85e3d946dd893320ddbbfb454d": {
          "model_module": "@jupyter-widgets/controls",
          "model_name": "HTMLModel",
          "model_module_version": "1.5.0",
          "state": {
            "_dom_classes": [],
            "_model_module": "@jupyter-widgets/controls",
            "_model_module_version": "1.5.0",
            "_model_name": "HTMLModel",
            "_view_count": null,
            "_view_module": "@jupyter-widgets/controls",
            "_view_module_version": "1.5.0",
            "_view_name": "HTMLView",
            "description": "",
            "description_tooltip": null,
            "layout": "IPY_MODEL_d19233e4ec2a49ddb5b7ba4bc271b6ed",
            "placeholder": "​",
            "style": "IPY_MODEL_e3794cde4aa742579c269364e51e79bb",
            "value": " 1/1 [00:00&lt;00:00, 19.20it/s]"
          }
        },
        "90401946a30d49fdbc7ef315116e9ea9": {
          "model_module": "@jupyter-widgets/base",
          "model_name": "LayoutModel",
          "model_module_version": "1.2.0",
          "state": {
            "_model_module": "@jupyter-widgets/base",
            "_model_module_version": "1.2.0",
            "_model_name": "LayoutModel",
            "_view_count": null,
            "_view_module": "@jupyter-widgets/base",
            "_view_module_version": "1.2.0",
            "_view_name": "LayoutView",
            "align_content": null,
            "align_items": null,
            "align_self": null,
            "border": null,
            "bottom": null,
            "display": null,
            "flex": null,
            "flex_flow": null,
            "grid_area": null,
            "grid_auto_columns": null,
            "grid_auto_flow": null,
            "grid_auto_rows": null,
            "grid_column": null,
            "grid_gap": null,
            "grid_row": null,
            "grid_template_areas": null,
            "grid_template_columns": null,
            "grid_template_rows": null,
            "height": null,
            "justify_content": null,
            "justify_items": null,
            "left": null,
            "margin": null,
            "max_height": null,
            "max_width": null,
            "min_height": null,
            "min_width": null,
            "object_fit": null,
            "object_position": null,
            "order": null,
            "overflow": null,
            "overflow_x": null,
            "overflow_y": null,
            "padding": null,
            "right": null,
            "top": null,
            "visibility": null,
            "width": null
          }
        },
        "1a92add4a38740f8b93478d663bbcd72": {
          "model_module": "@jupyter-widgets/base",
          "model_name": "LayoutModel",
          "model_module_version": "1.2.0",
          "state": {
            "_model_module": "@jupyter-widgets/base",
            "_model_module_version": "1.2.0",
            "_model_name": "LayoutModel",
            "_view_count": null,
            "_view_module": "@jupyter-widgets/base",
            "_view_module_version": "1.2.0",
            "_view_name": "LayoutView",
            "align_content": null,
            "align_items": null,
            "align_self": null,
            "border": null,
            "bottom": null,
            "display": null,
            "flex": null,
            "flex_flow": null,
            "grid_area": null,
            "grid_auto_columns": null,
            "grid_auto_flow": null,
            "grid_auto_rows": null,
            "grid_column": null,
            "grid_gap": null,
            "grid_row": null,
            "grid_template_areas": null,
            "grid_template_columns": null,
            "grid_template_rows": null,
            "height": null,
            "justify_content": null,
            "justify_items": null,
            "left": null,
            "margin": null,
            "max_height": null,
            "max_width": null,
            "min_height": null,
            "min_width": null,
            "object_fit": null,
            "object_position": null,
            "order": null,
            "overflow": null,
            "overflow_x": null,
            "overflow_y": null,
            "padding": null,
            "right": null,
            "top": null,
            "visibility": null,
            "width": null
          }
        },
        "afbae800298a46d1b1abfe15d30c8c37": {
          "model_module": "@jupyter-widgets/controls",
          "model_name": "DescriptionStyleModel",
          "model_module_version": "1.5.0",
          "state": {
            "_model_module": "@jupyter-widgets/controls",
            "_model_module_version": "1.5.0",
            "_model_name": "DescriptionStyleModel",
            "_view_count": null,
            "_view_module": "@jupyter-widgets/base",
            "_view_module_version": "1.2.0",
            "_view_name": "StyleView",
            "description_width": ""
          }
        },
        "4d9f517f6c9941719bad1da0eb9c6df3": {
          "model_module": "@jupyter-widgets/base",
          "model_name": "LayoutModel",
          "model_module_version": "1.2.0",
          "state": {
            "_model_module": "@jupyter-widgets/base",
            "_model_module_version": "1.2.0",
            "_model_name": "LayoutModel",
            "_view_count": null,
            "_view_module": "@jupyter-widgets/base",
            "_view_module_version": "1.2.0",
            "_view_name": "LayoutView",
            "align_content": null,
            "align_items": null,
            "align_self": null,
            "border": null,
            "bottom": null,
            "display": null,
            "flex": null,
            "flex_flow": null,
            "grid_area": null,
            "grid_auto_columns": null,
            "grid_auto_flow": null,
            "grid_auto_rows": null,
            "grid_column": null,
            "grid_gap": null,
            "grid_row": null,
            "grid_template_areas": null,
            "grid_template_columns": null,
            "grid_template_rows": null,
            "height": null,
            "justify_content": null,
            "justify_items": null,
            "left": null,
            "margin": null,
            "max_height": null,
            "max_width": null,
            "min_height": null,
            "min_width": null,
            "object_fit": null,
            "object_position": null,
            "order": null,
            "overflow": null,
            "overflow_x": null,
            "overflow_y": null,
            "padding": null,
            "right": null,
            "top": null,
            "visibility": null,
            "width": null
          }
        },
        "54553a7d403a494b9270097f4995b0a4": {
          "model_module": "@jupyter-widgets/controls",
          "model_name": "ProgressStyleModel",
          "model_module_version": "1.5.0",
          "state": {
            "_model_module": "@jupyter-widgets/controls",
            "_model_module_version": "1.5.0",
            "_model_name": "ProgressStyleModel",
            "_view_count": null,
            "_view_module": "@jupyter-widgets/base",
            "_view_module_version": "1.2.0",
            "_view_name": "StyleView",
            "bar_color": null,
            "description_width": ""
          }
        },
        "d19233e4ec2a49ddb5b7ba4bc271b6ed": {
          "model_module": "@jupyter-widgets/base",
          "model_name": "LayoutModel",
          "model_module_version": "1.2.0",
          "state": {
            "_model_module": "@jupyter-widgets/base",
            "_model_module_version": "1.2.0",
            "_model_name": "LayoutModel",
            "_view_count": null,
            "_view_module": "@jupyter-widgets/base",
            "_view_module_version": "1.2.0",
            "_view_name": "LayoutView",
            "align_content": null,
            "align_items": null,
            "align_self": null,
            "border": null,
            "bottom": null,
            "display": null,
            "flex": null,
            "flex_flow": null,
            "grid_area": null,
            "grid_auto_columns": null,
            "grid_auto_flow": null,
            "grid_auto_rows": null,
            "grid_column": null,
            "grid_gap": null,
            "grid_row": null,
            "grid_template_areas": null,
            "grid_template_columns": null,
            "grid_template_rows": null,
            "height": null,
            "justify_content": null,
            "justify_items": null,
            "left": null,
            "margin": null,
            "max_height": null,
            "max_width": null,
            "min_height": null,
            "min_width": null,
            "object_fit": null,
            "object_position": null,
            "order": null,
            "overflow": null,
            "overflow_x": null,
            "overflow_y": null,
            "padding": null,
            "right": null,
            "top": null,
            "visibility": null,
            "width": null
          }
        },
        "e3794cde4aa742579c269364e51e79bb": {
          "model_module": "@jupyter-widgets/controls",
          "model_name": "DescriptionStyleModel",
          "model_module_version": "1.5.0",
          "state": {
            "_model_module": "@jupyter-widgets/controls",
            "_model_module_version": "1.5.0",
            "_model_name": "DescriptionStyleModel",
            "_view_count": null,
            "_view_module": "@jupyter-widgets/base",
            "_view_module_version": "1.2.0",
            "_view_name": "StyleView",
            "description_width": ""
          }
        }
      }
    }
  },
  "cells": [
    {
      "cell_type": "markdown",
      "metadata": {
        "id": "view-in-github",
        "colab_type": "text"
      },
      "source": [
        "<a href=\"https://colab.research.google.com/github/Nawel-Bellil/AI---Deep-Learning--/blob/main/bbc_text_embedding.ipynb\" target=\"_parent\"><img src=\"https://colab.research.google.com/assets/colab-badge.svg\" alt=\"Open In Colab\"/></a>"
      ]
    },
    {
      "cell_type": "code",
      "execution_count": 1,
      "metadata": {
        "id": "cjRq7UhRp5s3"
      },
      "outputs": [],
      "source": [
        "import numpy as np\n",
        "import pandas as pd\n",
        "from sklearn.cluster import KMeans\n",
        "import matplotlib.pyplot as plt\n",
        "from sentence_transformers import SentenceTransformer\n",
        "from sklearn.manifold import TSNE\n",
        "import seaborn as sns\n",
        "import requests\n",
        "from io import StringIO\n",
        "from sklearn.metrics import silhouette_score\n",
        "from sklearn.metrics import adjusted_rand_score, normalized_mutual_info_score\n",
        "from sklearn.preprocessing import LabelEncoder\n",
        "from sklearn.feature_extraction.text import TfidfVectorizer\n"
      ]
    },
    {
      "cell_type": "code",
      "source": [
        "data = pd.read_csv(\"/content/bbc-text.csv\")"
      ],
      "metadata": {
        "id": "gQOtHNLXp65C"
      },
      "execution_count": 2,
      "outputs": []
    },
    {
      "cell_type": "code",
      "source": [
        "print(f\"Dataset shape: {data.shape}\")\n",
        "print(data['category'].value_counts())"
      ],
      "metadata": {
        "colab": {
          "base_uri": "https://localhost:8080/"
        },
        "id": "cmXeTFXzqDlr",
        "outputId": "1ce58db3-773f-4d80-f96d-38e7cedb0816"
      },
      "execution_count": 3,
      "outputs": [
        {
          "output_type": "stream",
          "name": "stdout",
          "text": [
            "Dataset shape: (2225, 2)\n",
            "category\n",
            "sport            511\n",
            "business         510\n",
            "politics         417\n",
            "tech             401\n",
            "entertainment    386\n",
            "Name: count, dtype: int64\n"
          ]
        }
      ]
    },
    {
      "cell_type": "code",
      "source": [
        "sample_size = 100\n",
        "data_sample = data.groupby('category').apply(lambda x: x.sample(min(len(x), sample_size//5))).reset_index(drop=True)\n"
      ],
      "metadata": {
        "colab": {
          "base_uri": "https://localhost:8080/"
        },
        "id": "GaOKMj_Auqg6",
        "outputId": "19a61948-0d72-4f11-a57e-8c5420a0bb2b"
      },
      "execution_count": 4,
      "outputs": [
        {
          "output_type": "stream",
          "name": "stderr",
          "text": [
            "<ipython-input-4-efe0a684d1d7>:2: DeprecationWarning: DataFrameGroupBy.apply operated on the grouping columns. This behavior is deprecated, and in a future version of pandas the grouping columns will be excluded from the operation. Either pass `include_groups=False` to exclude the groupings or explicitly select the grouping columns after groupby to silence this warning.\n",
            "  data_sample = data.groupby('category').apply(lambda x: x.sample(min(len(x), sample_size//5))).reset_index(drop=True)\n"
          ]
        }
      ]
    },
    {
      "cell_type": "code",
      "source": [
        "texts = data_sample['text'].str.split().str[:20].str.join(' ').tolist()  # Get first 20 words\n",
        "categories = data_sample['category'].tolist()"
      ],
      "metadata": {
        "id": "KXmWhbQWusd7"
      },
      "execution_count": 5,
      "outputs": []
    },
    {
      "cell_type": "code",
      "source": [
        "print(\"Creating embeddings...\")\n",
        "from sentence_transformers import SentenceTransformer\n",
        "\n",
        "model = SentenceTransformer('paraphrase-MiniLM-L6-v2')  # A good model for semantic similarity\n",
        "embeddings = model.encode(texts, show_progress_bar=True)\n"
      ],
      "metadata": {
        "colab": {
          "base_uri": "https://localhost:8080/",
          "height": 171,
          "referenced_widgets": [
            "24a032bb0d08406f9f7c37e11a82cb8d",
            "770ef16124ce4c4597d70170fe3af43e",
            "fde62ab0856f48748d78f253f675b322",
            "7b1b36ffd78d4492be09d5e6ed9a4e60",
            "77d46da0f1334e62bf1930cebb8ec53d",
            "d78b084186f74ede8824f1609eb55b48",
            "cc9ddab84bfb4109b133d4ccd81854e6",
            "253ac16b00be430284a2a2ebd4f2ee6c",
            "331612f1a3e6485a9bf716659857489f",
            "ab02f61989c040f4a1d8560442a4d1d9",
            "d573e57a1245433883666212b51f05f5"
          ]
        },
        "id": "pTQWbvnfv_ah",
        "outputId": "1e41de1b-fe3f-4f28-963b-b1d9a0f9bdb9"
      },
      "execution_count": 6,
      "outputs": [
        {
          "output_type": "stream",
          "name": "stdout",
          "text": [
            "Creating embeddings...\n"
          ]
        },
        {
          "output_type": "stream",
          "name": "stderr",
          "text": [
            "/usr/local/lib/python3.11/dist-packages/huggingface_hub/utils/_auth.py:94: UserWarning: \n",
            "The secret `HF_TOKEN` does not exist in your Colab secrets.\n",
            "To authenticate with the Hugging Face Hub, create a token in your settings tab (https://huggingface.co/settings/tokens), set it as secret in your Google Colab and restart your session.\n",
            "You will be able to reuse this secret in all of your notebooks.\n",
            "Please note that authentication is recommended but still optional to access public models or datasets.\n",
            "  warnings.warn(\n"
          ]
        },
        {
          "output_type": "display_data",
          "data": {
            "text/plain": [
              "Batches:   0%|          | 0/4 [00:00<?, ?it/s]"
            ],
            "application/vnd.jupyter.widget-view+json": {
              "version_major": 2,
              "version_minor": 0,
              "model_id": "24a032bb0d08406f9f7c37e11a82cb8d"
            }
          },
          "metadata": {}
        }
      ]
    },
    {
      "cell_type": "code",
      "source": [
        "from sentence_transformers import SentenceTransformer\n",
        "\n",
        "texts = [\"This is an example sentence.\", \"Each sentence will be converted.\"]\n",
        "print(\"Creating embeddings...\")\n",
        "\n",
        "model = SentenceTransformer('paraphrase-MiniLM-L6-v2')  # A good model for semantic similarity\n",
        "embeddings = model.encode(texts, show_progress_bar=True)\n",
        "print(\"Embeddings created:\", embeddings[:1])  # Just to confirm it worked\n"
      ],
      "metadata": {
        "colab": {
          "base_uri": "https://localhost:8080/",
          "height": 1000,
          "referenced_widgets": [
            "f06acbff1b174a5db0abf8b9b58c7c76",
            "91b586a23fe94f2f8648def857ab4de0",
            "8e05785235ac4c659e379559a732d7e5",
            "89e74a85e3d946dd893320ddbbfb454d",
            "90401946a30d49fdbc7ef315116e9ea9",
            "1a92add4a38740f8b93478d663bbcd72",
            "afbae800298a46d1b1abfe15d30c8c37",
            "4d9f517f6c9941719bad1da0eb9c6df3",
            "54553a7d403a494b9270097f4995b0a4",
            "d19233e4ec2a49ddb5b7ba4bc271b6ed",
            "e3794cde4aa742579c269364e51e79bb"
          ]
        },
        "id": "nE_EoTNtv_0J",
        "outputId": "a3360760-6a2b-452e-9b23-a79383155343"
      },
      "execution_count": 7,
      "outputs": [
        {
          "output_type": "stream",
          "name": "stdout",
          "text": [
            "Creating embeddings...\n"
          ]
        },
        {
          "output_type": "display_data",
          "data": {
            "text/plain": [
              "Batches:   0%|          | 0/1 [00:00<?, ?it/s]"
            ],
            "application/vnd.jupyter.widget-view+json": {
              "version_major": 2,
              "version_minor": 0,
              "model_id": "f06acbff1b174a5db0abf8b9b58c7c76"
            }
          },
          "metadata": {}
        },
        {
          "output_type": "stream",
          "name": "stdout",
          "text": [
            "Embeddings created: [[ 7.69603476e-02  6.23396099e-01  2.76092082e-01  8.62023830e-02\n",
            "   3.52396309e-01  1.73912674e-01  7.48072624e-01 -2.43756592e-01\n",
            "   1.73383251e-01  1.22128546e-01  1.80759177e-01 -3.09834015e-02\n",
            "   1.68144941e-01  1.00676864e-01  9.01691318e-01  2.18310267e-01\n",
            "   6.40588880e-01  2.87064582e-01 -7.00353622e-01 -2.30968326e-01\n",
            "   7.77893782e-01 -6.93199933e-02 -5.66784516e-02 -4.84512210e-01\n",
            "  -2.09473923e-01  7.77327269e-02  1.36969954e-01 -1.72046810e-01\n",
            "   3.57539207e-02 -2.08567426e-01 -2.40248919e-01 -6.62045330e-02\n",
            "   1.32387653e-01 -1.06669314e-01 -9.27266032e-02  3.67018521e-01\n",
            "   2.66978294e-01  8.08430374e-01  3.69639508e-02  9.71164256e-02\n",
            "  -1.74767971e-01 -2.69487381e-01 -4.48280647e-02  6.73004612e-02\n",
            "  -1.70729458e-01 -4.75760251e-01 -4.62448373e-02  8.68756846e-02\n",
            "   1.48813650e-02 -3.87928605e-01 -4.49986547e-01 -4.59622294e-02\n",
            "  -4.09238428e-01  5.91528304e-02 -5.31825721e-02  1.06335029e-01\n",
            "   1.85327649e-01  9.39727873e-02 -4.71276492e-01 -1.27582744e-01\n",
            "  -5.18902540e-01  2.54883543e-02 -1.03698790e+00  5.48553467e-01\n",
            "   1.61776654e-02 -1.76346868e-01 -7.21494202e-03  1.10245034e-01\n",
            "  -4.80497897e-01  4.87139344e-01  3.85161102e-01  1.51350513e-01\n",
            "   2.23766610e-01  6.71721458e-01 -3.18652600e-01 -2.20413104e-01\n",
            "   3.41356099e-01  6.67466000e-02  1.63554251e-01  1.98314846e-01\n",
            "  -2.98710227e-01 -2.39415050e-01 -3.90104592e-01  7.97405466e-03\n",
            "  -1.59536362e-01 -8.03733766e-02 -5.26669212e-02  2.61080563e-01\n",
            "   1.67536348e-01 -1.61255702e-01 -4.39996600e-01 -3.13856661e-01\n",
            "   5.87317467e-01  1.57012612e-01  7.39402324e-02  1.53208718e-01\n",
            "  -6.51361793e-02 -5.42297363e-01 -2.16764361e-01  9.29830149e-02\n",
            "  -2.31578559e-01 -1.71903633e-02 -3.01960379e-01  1.36442482e-01\n",
            "   6.93362772e-01 -8.67185950e-01 -5.02017856e-01 -4.20558870e-01\n",
            "  -8.85326713e-02 -9.51780230e-02 -3.96858662e-01  2.53763050e-03\n",
            "   1.75614879e-02 -1.87304035e-01 -3.30244631e-01 -5.71839273e-01\n",
            "  -6.97198585e-02  6.82748109e-02 -2.42791548e-01 -2.62712955e-01\n",
            "   2.88754940e-01  4.59896743e-01  5.78770526e-02  4.22802269e-02\n",
            "  -5.47948256e-02 -1.51202932e-01  4.49232996e-01  5.43286800e-01\n",
            "   1.12730265e-01 -4.53299314e-01  3.31551135e-02 -3.49433720e-01\n",
            "   7.75572658e-01  2.50937313e-01 -2.24991813e-01 -1.92171261e-01\n",
            "   3.45369577e-01  6.81322739e-02  4.47788000e-01  1.47189006e-01\n",
            "   4.43325549e-01  2.74474502e-01 -3.34547274e-02  2.99376547e-01\n",
            "  -4.19129789e-01  6.87754035e-01 -2.06773698e-01 -1.83082104e-01\n",
            "  -1.91450670e-01 -2.29682565e-01 -3.36178653e-02 -2.77117521e-01\n",
            "   1.68445349e-01 -6.52415216e-01 -1.64730236e-01 -1.86623335e-01\n",
            "  -1.76412053e-03  2.19701529e-01  2.46800348e-01  1.02240488e-01\n",
            "  -2.01419771e-01  2.45283633e-01 -1.35603309e-01  2.19875872e-01\n",
            "   1.29790291e-01 -1.02438949e-01  1.48292109e-01  2.90934872e-02\n",
            "  -1.14526637e-02  9.30139795e-04  3.54882270e-01  3.62264574e-01\n",
            "   3.77073213e-02 -8.23796540e-02 -1.31980225e-01  3.22177052e-01\n",
            "  -3.88161480e-01  2.24374190e-01  2.38851029e-02  9.70757008e-03\n",
            "   4.78349268e-01 -2.69076347e-01 -4.86058705e-02  2.12571040e-01\n",
            "   3.84337455e-03  5.28325379e-01  1.83959186e-01  6.72378018e-02\n",
            "   8.62502530e-02 -2.05210447e-01 -3.54252756e-01  2.80749142e-01\n",
            "   7.50638917e-02  2.26809293e-01 -1.41833067e-01  8.00772011e-02\n",
            "   3.56484175e-01 -1.01098850e-01 -3.50393116e-01 -1.42772347e-01\n",
            "  -4.61582422e-01  4.16017383e-01 -2.11886242e-02 -1.18027203e-01\n",
            "   4.44288075e-01 -1.05977871e-01  7.49263465e-02 -4.09518890e-02\n",
            "  -3.69637430e-01 -2.73334622e-01 -1.19715333e-02  4.50228035e-01\n",
            "  -4.18150008e-01  4.19359207e-01  1.92896545e-01  8.43293816e-02\n",
            "   2.96107322e-01  3.76339465e-01 -5.86008310e-01 -1.81951940e-01\n",
            "  -5.18977977e-02 -2.22578228e-01  2.52823055e-01 -8.15691948e-01\n",
            "   9.35897157e-02  1.72142237e-01 -2.00056791e-01 -1.31873325e-01\n",
            "   6.64458096e-01 -2.93314248e-01  1.18570231e-01 -6.49114847e-01\n",
            "  -4.05484661e-02 -8.63521248e-02 -9.95933414e-01 -2.89399564e-01\n",
            "   3.31067264e-01 -1.39824897e-01 -3.81568134e-01  1.24268606e-01\n",
            "   6.53918609e-02 -8.03794116e-02 -1.24830991e-01  4.02999014e-01\n",
            "  -2.55804300e-01  3.32680970e-01 -4.62033242e-01 -2.34286308e-01\n",
            "   1.32165626e-02 -4.60554473e-02 -3.22436333e-01  1.11947581e-01\n",
            "  -4.78124738e-01  1.56730637e-01 -8.68376791e-01  2.40776092e-01\n",
            "  -2.20522091e-01  3.39655876e-01 -4.82001424e-01  3.52574326e-02\n",
            "   4.72315967e-01 -8.02047849e-01  2.31781736e-01  2.27343962e-02\n",
            "   1.19707227e-01 -2.65529752e-01  2.52972126e-01  1.51920408e-01\n",
            "  -3.32730681e-01 -1.46148995e-01 -4.17199194e-01 -3.11577797e-01\n",
            "  -2.02718824e-02 -2.56787002e-01 -6.80150032e-01  1.83216438e-01\n",
            "  -1.44407690e-01  2.13073820e-01 -2.30565518e-01 -7.99473763e-01\n",
            "   8.39674920e-02 -9.37692523e-01 -1.76199794e-01  1.07295632e-01\n",
            "  -2.90026456e-01  1.81662485e-01  3.42316985e-01  4.49989021e-01\n",
            "   6.39272332e-01 -1.15820672e-02 -2.82792836e-01  6.86552301e-02\n",
            "   6.08991198e-02 -5.40391386e-01  4.68805954e-02 -1.15375333e-01\n",
            "  -5.37245214e-01  3.06784153e-01 -1.83466956e-01  9.39077586e-02\n",
            "   2.53492326e-01 -3.93299833e-02 -3.18450481e-01  7.54886959e-03\n",
            "   2.62437701e-01 -3.60824496e-01  4.20584679e-01 -1.60970479e-01\n",
            "  -2.56602347e-01  2.66162790e-02  7.56271034e-02  1.83019638e-02\n",
            "  -1.81748301e-01  3.29589725e-01 -2.77151763e-01  4.60945591e-02\n",
            "  -2.00823367e-01  2.75489807e-01 -1.34975642e-01 -1.95729077e-01\n",
            "   9.07395482e-02 -5.69766387e-02  1.37862310e-01 -7.08453059e-02\n",
            "   8.31073970e-02 -1.47837117e-01  3.10513884e-01 -1.15123473e-01\n",
            "  -7.96991512e-02 -1.93629026e-01  4.44895402e-02  4.53030497e-01\n",
            "   1.07744955e-01  2.19523042e-01 -4.66616303e-02  3.42828035e-01\n",
            "  -6.07242696e-02 -7.10222647e-02 -1.92803651e-01  5.28426945e-01\n",
            "   4.03400540e-01  6.72428608e-01 -3.59031796e-01  1.64702177e-01\n",
            "   2.74140656e-01 -2.39143997e-01 -1.47979259e-01  3.55417460e-01\n",
            "   1.28299519e-02  3.96707743e-01 -1.35134220e-01  6.52195275e-01\n",
            "   3.48413289e-01  8.15183576e-03  4.66244310e-01  3.74675877e-02\n",
            "   5.27298808e-01 -2.01652437e-01  1.19594216e-01 -1.67621493e-01\n",
            "   3.94850880e-01 -3.92208874e-01  2.43468150e-01  8.53527129e-01\n",
            "   2.08772004e-01  5.19239902e-01 -4.26930517e-01  2.97650695e-01\n",
            "  -5.24126701e-02  3.92707288e-02 -1.36721790e-01 -2.33123451e-01\n",
            "   6.48096800e-01 -2.19155893e-01  4.09195602e-01 -9.49678272e-02\n",
            "   1.42199695e-01 -8.44119266e-02  7.69831613e-02  3.07545066e-01\n",
            "   2.73132145e-01  1.81647152e-01  1.02697086e+00  3.53791326e-01]]\n"
          ]
        }
      ]
    },
    {
      "cell_type": "code",
      "source": [],
      "metadata": {
        "id": "xkEUNjwywmCb"
      },
      "execution_count": null,
      "outputs": []
    }
  ]
}