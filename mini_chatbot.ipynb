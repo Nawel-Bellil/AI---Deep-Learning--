{
  "cells": [
    {
      "cell_type": "markdown",
      "metadata": {
        "id": "view-in-github",
        "colab_type": "text"
      },
      "source": [
        "<a href=\"https://colab.research.google.com/github/Nawel-Bellil/AI---Deep-Learning--/blob/main/mini_chatbot.ipynb\" target=\"_parent\"><img src=\"https://colab.research.google.com/assets/colab-badge.svg\" alt=\"Open In Colab\"/></a>"
      ]
    },
    {
      "cell_type": "code",
      "execution_count": null,
      "metadata": {
        "colab": {
          "base_uri": "https://localhost:8080/"
        },
        "id": "6FBgg-0ijdeE",
        "outputId": "85158068-6085-4e0c-ebae-41718b5abbdb"
      },
      "outputs": [
        {
          "name": "stdout",
          "output_type": "stream",
          "text": [
            "Requirement already satisfied: nltk in /usr/local/lib/python3.11/dist-packages (3.9.1)\n",
            "Requirement already satisfied: click in /usr/local/lib/python3.11/dist-packages (from nltk) (8.1.8)\n",
            "Requirement already satisfied: joblib in /usr/local/lib/python3.11/dist-packages (from nltk) (1.4.2)\n",
            "Requirement already satisfied: regex>=2021.8.3 in /usr/local/lib/python3.11/dist-packages (from nltk) (2024.11.6)\n",
            "Requirement already satisfied: tqdm in /usr/local/lib/python3.11/dist-packages (from nltk) (4.67.1)\n"
          ]
        }
      ],
      "source": [
        "!pip install nltk\n"
      ]
    },
    {
      "cell_type": "code",
      "execution_count": null,
      "metadata": {
        "colab": {
          "base_uri": "https://localhost:8080/"
        },
        "id": "ilh_BNNMhFee",
        "outputId": "641e150a-b35d-44bf-e88b-8c525ec546c6"
      },
      "outputs": [
        {
          "name": "stderr",
          "output_type": "stream",
          "text": [
            "[nltk_data] Downloading package punkt to /root/nltk_data...\n",
            "[nltk_data]   Package punkt is already up-to-date!\n",
            "[nltk_data] Downloading package stopwords to /root/nltk_data...\n",
            "[nltk_data]   Package stopwords is already up-to-date!\n",
            "[nltk_data] Downloading package wordnet to /root/nltk_data...\n",
            "[nltk_data]   Package wordnet is already up-to-date!\n",
            "[nltk_data] Downloading package omw-1.4 to /root/nltk_data...\n",
            "[nltk_data]   Package omw-1.4 is already up-to-date!\n"
          ]
        },
        {
          "data": {
            "text/plain": [
              "True"
            ]
          },
          "execution_count": 2,
          "metadata": {},
          "output_type": "execute_result"
        }
      ],
      "source": [
        "import numpy as np\n",
        "import pandas as pd\n",
        "import json\n",
        "import os\n",
        "import re\n",
        "import requests\n",
        "from sentence_transformers import SentenceTransformer\n",
        "from sklearn.metrics.pairwise import cosine_similarity\n",
        "from nltk.tokenize import word_tokenize\n",
        "from nltk.corpus import stopwords\n",
        "from nltk.stem import WordNetLemmatizer\n",
        "import random\n",
        "import io\n",
        "from io import StringIO\n",
        "import nltk\n",
        "nltk.download('punkt')\n",
        "nltk.download('stopwords')\n",
        "nltk.download('wordnet')\n",
        "nltk.download('omw-1.4')"
      ]
    },
    {
      "cell_type": "code",
      "execution_count": null,
      "metadata": {
        "id": "umprZ-YLlblR"
      },
      "outputs": [],
      "source": []
    },
    {
      "cell_type": "markdown",
      "metadata": {
        "id": "J0-hs8PVhXzF"
      },
      "source": [
        "# DATA PREPARATION"
      ]
    },
    {
      "cell_type": "code",
      "execution_count": null,
      "metadata": {
        "id": "G1zRDbPOhV2d"
      },
      "outputs": [],
      "source": [
        "def download_data():\n",
        "    \"\"\"Download and prepare an advanced FAQ dataset\"\"\"\n",
        "    print(\"Downloading FAQ dataset...\")\n",
        "\n",
        "    # Using the StackExchange FAQ dataset\n",
        "    url = \"https://raw.githubusercontent.com/Dibakarroy1997/Chatbot-FAQ/master/data/faq.csv\"\n",
        "\n",
        "    try:\n",
        "        response = requests.get(url)\n",
        "        data = pd.read_csv(io.StringIO(response.text))\n",
        "        print(f\"Dataset loaded with {len(data)} question-answer pairs\")\n",
        "        return data\n",
        "    except Exception as e:\n",
        "        print(f\"Error downloading dataset: {e}\")\n",
        "        # Fallback to a small built-in dataset\n",
        "        return pd.DataFrame({\n",
        "            'Question': [\n",
        "                \"What is machine learning?\",\n",
        "                \"How do neural networks work?\",\n",
        "                \"What is natural language processing?\",\n",
        "                \"Explain what a chatbot is\",\n",
        "                \"What are embeddings in NLP?\",\n",
        "                \"How does sentiment analysis work?\",\n",
        "                \"What is transfer learning in AI?\",\n",
        "                \"Explain the difference between AI and ML\",\n",
        "                \"What is deep learning?\",\n",
        "                \"How to measure chatbot effectiveness?\"\n",
        "            ],\n",
        "            'Answer': [\n",
        "                \"Machine learning is a field of AI that enables computers to learn from data without explicit programming.\",\n",
        "                \"Neural networks are computing systems inspired by biological neural networks, consisting of nodes (neurons) arranged in layers that process and transform input data to produce output.\",\n",
        "                \"Natural Language Processing (NLP) is a field of AI focused on enabling computers to understand, interpret, and generate human language.\",\n",
        "                \"A chatbot is a software application that uses AI to conduct conversations with users through text or speech interfaces.\",\n",
        "                \"Embeddings in NLP are vector representations of words or sentences that capture semantic meanings, allowing machines to understand relationships between terms.\",\n",
        "                \"Sentiment analysis works by using NLP techniques to identify and extract subjective information from text, determining if the expressed opinion is positive, negative, or neutral.\",\n",
        "                \"Transfer learning is an ML technique where a model developed for one task is reused as the starting point for another related task, saving time and computational resources.\",\n",
        "                \"AI (Artificial Intelligence) is the broader concept of machines being able to carry out tasks intelligently, while ML (Machine Learning) is a specific subset focused on training machines to learn patterns from data.\",\n",
        "                \"Deep learning is a subset of machine learning that uses neural networks with many layers (deep neural networks) to analyze various factors with a structure similar to the human brain.\",\n",
        "                \"Chatbot effectiveness can be measured through metrics like task completion rate, conversation length, user satisfaction scores, and correct response rate.\"\n",
        "            ]\n",
        "        })"
      ]
    },
    {
      "cell_type": "markdown",
      "metadata": {
        "id": "eyLm70CbhkzB"
      },
      "source": [
        "# preprocessing"
      ]
    },
    {
      "cell_type": "code",
      "execution_count": null,
      "metadata": {
        "id": "w4uVC3VWhnwV"
      },
      "outputs": [],
      "source": [
        "def preprocess_text(text):\n",
        "    \"\"\"Clean and normalize text\"\"\"\n",
        "    if not isinstance(text, str):\n",
        "        return \"\"\n",
        "\n",
        "    # Ensure NLTK data is downloaded\n",
        "    try:\n",
        "        nltk.data.find('tokenizers/punkt')\n",
        "    except LookupError:\n",
        "        nltk.download('punkt', quiet=True)\n",
        "\n",
        "    try:\n",
        "        nltk.data.find('corpora/stopwords')\n",
        "    except LookupError:\n",
        "        nltk.download('stopwords', quiet=True)\n",
        "\n",
        "    try:\n",
        "        nltk.data.find('corpora/wordnet')\n",
        "    except LookupError:\n",
        "        nltk.download('wordnet', quiet=True)\n",
        "            # Download the 'punkt_tab' data if not already present\n",
        "    try:\n",
        "        nltk.data.find('tokenizers/punkt_tab') # Check if 'punkt_tab' data is present\n",
        "    except LookupError:\n",
        "        nltk.download('punkt_tab', quiet=True) # Download 'punkt_tab' if not found\n",
        "\n",
        "\n",
        "    # Lowercase and remove special characters\n",
        "    text = re.sub(r'[^a-zA-Z0-9\\s]', '', text.lower())\n",
        "\n",
        "    # Tokenize\n",
        "    tokens = word_tokenize(text)\n",
        "\n",
        "    # Remove stopwords and lemmatize\n",
        "    stop_words = set(stopwords.words('english'))\n",
        "    lemmatizer = WordNetLemmatizer()\n",
        "    cleaned_tokens = [lemmatizer.lemmatize(token) for token in tokens if token not in stop_words]\n",
        "\n",
        "    return \" \".join(cleaned_tokens)"
      ]
    },
    {
      "cell_type": "code",
      "execution_count": null,
      "metadata": {
        "id": "p54TyLW2hqPq"
      },
      "outputs": [],
      "source": [
        "def prepare_knowledge_base(data):\n",
        "    \"\"\"Process the dataset into a clean knowledge base\"\"\"\n",
        "    # Use original questions and answers but also add preprocessed versions\n",
        "    knowledge_base = []\n",
        "\n",
        "    for i, row in data.iterrows():\n",
        "        question = row['Question'] if isinstance(row['Question'], str) else \"\"\n",
        "        answer = row['Answer'] if isinstance(row['Answer'], str) else \"\"\n",
        "\n",
        "        if question and answer:\n",
        "            # Preprocess for better matching\n",
        "            processed_question = preprocess_text(question)\n",
        "\n",
        "            knowledge_base.append({\n",
        "                'original_question': question,\n",
        "                'processed_question': processed_question,\n",
        "                'answer': answer\n",
        "            })\n",
        "\n",
        "    print(f\"Knowledge base prepared with {len(knowledge_base)} entries\")\n",
        "    return knowledge_base"
      ]
    },
    {
      "cell_type": "code",
      "execution_count": null,
      "metadata": {
        "id": "78LZMkmChtYb"
      },
      "outputs": [],
      "source": [
        "def save_knowledge_base(knowledge_base, filename=\"knowledge_base.json\"):\n",
        "    \"\"\"Save the knowledge base to a file\"\"\"\n",
        "    with open(filename, 'w', encoding='utf-8') as f:\n",
        "        json.dump(knowledge_base, f, ensure_ascii=False, indent=2)\n",
        "    print(f\"Knowledge base saved to {filename}\")\n"
      ]
    },
    {
      "cell_type": "code",
      "execution_count": null,
      "metadata": {
        "id": "9rgATOL-hzcS"
      },
      "outputs": [],
      "source": [
        "def load_knowledge_base(filename=\"knowledge_base.json\"):\n",
        "    \"\"\"Load the knowledge base from a file\"\"\"\n",
        "    if os.path.exists(filename):\n",
        "        with open(filename, 'r', encoding='utf-8') as f:\n",
        "            knowledge_base = json.load(f)\n",
        "        print(f\"Knowledge base loaded with {len(knowledge_base)} entries\")\n",
        "        return knowledge_base\n",
        "    else:\n",
        "        print(f\"No knowledge base file found at {filename}\")\n",
        "        return None"
      ]
    },
    {
      "cell_type": "markdown",
      "metadata": {
        "id": "GzLoFzeSh3zS"
      },
      "source": [
        "# EMBEDDING MODULE"
      ]
    },
    {
      "cell_type": "code",
      "execution_count": null,
      "metadata": {
        "id": "KZR-5s1Ph1LW"
      },
      "outputs": [],
      "source": [
        "def initialize_embedding_model():\n",
        "    \"\"\"Initialize the sentence embedding model\"\"\"\n",
        "    print(\"Initializing embedding model...\")\n",
        "    model = SentenceTransformer('all-MiniLM-L6-v2')\n",
        "    return model"
      ]
    },
    {
      "cell_type": "code",
      "execution_count": null,
      "metadata": {
        "id": "0YCW-oxph57d"
      },
      "outputs": [],
      "source": [
        "def compute_embeddings(texts, model):\n",
        "    \"\"\"Compute embeddings for a list of texts\"\"\"\n",
        "    return model.encode(texts)"
      ]
    },
    {
      "cell_type": "code",
      "execution_count": null,
      "metadata": {
        "id": "vJhwIXH0h7bD"
      },
      "outputs": [],
      "source": [
        "def prepare_embeddings(knowledge_base, model):\n",
        "    \"\"\"Create embeddings for the knowledge base\"\"\"\n",
        "    questions = [item['processed_question'] for item in knowledge_base]\n",
        "    embeddings = compute_embeddings(questions, model)\n",
        "\n",
        "    # Add embeddings to knowledge base\n",
        "    for i, item in enumerate(knowledge_base):\n",
        "        item['embedding'] = embeddings[i].tolist()\n",
        "\n",
        "    print(\"Embeddings prepared for knowledge base\")\n",
        "    return knowledge_base"
      ]
    },
    {
      "cell_type": "markdown",
      "metadata": {
        "id": "i_FKNV_zh-bV"
      },
      "source": [
        "# QUERY HANDLING MODULE"
      ]
    },
    {
      "cell_type": "code",
      "execution_count": null,
      "metadata": {
        "id": "QC4nmkTLh9gG"
      },
      "outputs": [],
      "source": [
        "def preprocess_query(query):\n",
        "    \"\"\"Clean and prepare the user query\"\"\"\n",
        "    return preprocess_text(query)\n"
      ]
    },
    {
      "cell_type": "code",
      "execution_count": null,
      "metadata": {
        "id": "_nL31uNEiBh2"
      },
      "outputs": [],
      "source": [
        "def find_best_match(query, knowledge_base, model, threshold=0.6):\n",
        "    \"\"\"Find the best matching question for the query\"\"\"\n",
        "    # Preprocess the query\n",
        "    processed_query = preprocess_query(query)\n",
        "\n",
        "    # Compute embedding for the query\n",
        "    query_embedding = model.encode([processed_query])[0]\n",
        "\n",
        "    # Find the best match\n",
        "    best_match_idx = -1\n",
        "    best_match_score = -1\n",
        "\n",
        "    for i, item in enumerate(knowledge_base):\n",
        "        # Get embedding from knowledge base\n",
        "        item_embedding = np.array(item['embedding'])\n",
        "\n",
        "        # Calculate cosine similarity\n",
        "        similarity = cosine_similarity([query_embedding], [item_embedding])[0][0]\n",
        "\n",
        "        if similarity > best_match_score:\n",
        "            best_match_score = similarity\n",
        "            best_match_idx = i\n",
        "\n",
        "    # Return the best match if it exceeds the threshold\n",
        "    if best_match_score >= threshold and best_match_idx != -1:\n",
        "        return knowledge_base[best_match_idx]['answer'], best_match_score, knowledge_base[best_match_idx]['original_question']\n",
        "    else:\n",
        "        fallback_responses = [\n",
        "            \"I'm not sure I understand. Could you rephrase your question?\",\n",
        "            \"I don't have enough information to answer that properly.\",\n",
        "            \"That's an interesting question, but I'm not confident in my answer.\",\n",
        "            \"I'm still learning about that topic. Could you ask something else?\"\n",
        "        ]\n",
        "        return random.choice(fallback_responses), best_match_score, None"
      ]
    },
    {
      "cell_type": "markdown",
      "metadata": {
        "id": "_opmkbkWiGt_"
      },
      "source": [
        "# RESPONSE GENERATION MODULE"
      ]
    },
    {
      "cell_type": "code",
      "execution_count": null,
      "metadata": {
        "id": "h5GYNGXZiEc7"
      },
      "outputs": [],
      "source": [
        "def generate_response(query, knowledge_base, model):\n",
        "    \"\"\"Generate a response to the user query\"\"\"\n",
        "    answer, confidence, matched_question = find_best_match(query, knowledge_base, model)\n",
        "\n",
        "    response_data = {\n",
        "        'answer': answer,\n",
        "        'confidence': confidence,\n",
        "        'matched_question': matched_question\n",
        "    }\n",
        "\n",
        "    return response_data"
      ]
    },
    {
      "cell_type": "code",
      "execution_count": null,
      "metadata": {
        "id": "sWoxdzO8iIuF"
      },
      "outputs": [],
      "source": [
        "def format_response(response_data):\n",
        "    \"\"\"Format the response data for display\"\"\"\n",
        "    answer = response_data['answer']\n",
        "    confidence = response_data['confidence']\n",
        "    matched_question = response_data['matched_question']\n",
        "\n",
        "    formatted_response = f\"{answer}\"\n",
        "\n",
        "    if matched_question and confidence >= 0.8:\n",
        "        formatted_response += f\"\\n\\n(I matched your question to: '{matched_question}')\"\n",
        "\n",
        "    return formatted_response"
      ]
    },
    {
      "cell_type": "markdown",
      "metadata": {
        "id": "micOrHk2iMmn"
      },
      "source": [
        "# KNOWLEDGE BASE EXPANSION MODULE"
      ]
    },
    {
      "cell_type": "code",
      "execution_count": null,
      "metadata": {
        "id": "ZRIakEktiK3o"
      },
      "outputs": [],
      "source": [
        "def add_to_knowledge_base(question, answer, knowledge_base, model):\n",
        "    \"\"\"Add a new question-answer pair to the knowledge base\"\"\"\n",
        "    processed_question = preprocess_text(question)\n",
        "    embedding = model.encode([processed_question])[0].tolist()\n",
        "\n",
        "    new_entry = {\n",
        "        'original_question': question,\n",
        "        'processed_question': processed_question,\n",
        "        'answer': answer,\n",
        "        'embedding': embedding\n",
        "    }\n",
        "\n",
        "    knowledge_base.append(new_entry)\n",
        "    print(f\"Added new knowledge: '{question}'\")\n",
        "    return knowledge_base"
      ]
    },
    {
      "cell_type": "markdown",
      "metadata": {
        "id": "meY9qrRKiP14"
      },
      "source": [
        "# CHAT INTERFACE MODULE"
      ]
    },
    {
      "cell_type": "code",
      "execution_count": null,
      "metadata": {
        "id": "NCO24hZTiPJl"
      },
      "outputs": [],
      "source": [
        "def start_chat():\n",
        "    \"\"\"Main chat interface\"\"\"\n",
        "    print(\"Initializing chatbot...\")\n",
        "\n",
        "    # Step 1: Prepare data\n",
        "    data = download_data()\n",
        "    knowledge_base = prepare_knowledge_base(data)\n",
        "\n",
        "    # Step 2: Initialize embedding model\n",
        "    model = initialize_embedding_model()\n",
        "\n",
        "    # Step 3: Prepare embeddings\n",
        "    knowledge_base = prepare_embeddings(knowledge_base, model)\n",
        "\n",
        "    # Save knowledge base (optional)\n",
        "    save_knowledge_base(knowledge_base)\n",
        "\n",
        "    print(\"\\n=== Modular Chatbot Ready ===\")\n",
        "    print(\"Type 'exit' to end the conversation\")\n",
        "    print(\"Use 'learn: your question | your answer' to teach me something new\")\n",
        "    print(\"============================\\n\")\n",
        "\n",
        "    while True:\n",
        "        user_input = input(\"You: \").strip()\n",
        "\n",
        "        if user_input.lower() in ['exit', 'quit', 'bye']:\n",
        "            print(\"Chatbot: Goodbye!\")\n",
        "            break\n",
        "\n",
        "        if user_input.lower().startswith(\"learn:\"):\n",
        "            # Format: learn: question | answer\n",
        "            parts = user_input[6:].split(\"|\")\n",
        "            if len(parts) == 2:\n",
        "                question = parts[0].strip()\n",
        "                answer = parts[1].strip()\n",
        "                knowledge_base = add_to_knowledge_base(question, answer, knowledge_base, model)\n",
        "                print(\"Chatbot: Thanks! I've learned something new.\")\n",
        "                # Save the updated knowledge base\n",
        "                save_knowledge_base(knowledge_base)\n",
        "                continue\n",
        "\n",
        "        # Process query and generate response\n",
        "        response_data = generate_response(user_input, knowledge_base, model)\n",
        "        formatted_response = format_response(response_data)\n",
        "\n",
        "        print(f\"Chatbot: {formatted_response}\")\n",
        "        print(f\"(Confidence: {response_data['confidence']:.2f})\")"
      ]
    },
    {
      "cell_type": "markdown",
      "metadata": {
        "id": "brLZPTjliXFS"
      },
      "source": [
        "# ENTRY POINT"
      ]
    },
    {
      "cell_type": "code",
      "execution_count": null,
      "metadata": {
        "colab": {
          "background_save": true,
          "base_uri": "https://localhost:8080/"
        },
        "id": "PWkJXF3piVMP",
        "outputId": "8239cb40-710b-4b0a-9812-25ba2de92961"
      },
      "outputs": [
        {
          "name": "stdout",
          "output_type": "stream",
          "text": [
            "Initializing chatbot...\n",
            "Downloading FAQ dataset...\n",
            "Dataset loaded with 0 question-answer pairs\n",
            "Knowledge base prepared with 0 entries\n",
            "Initializing embedding model...\n"
          ]
        },
        {
          "name": "stderr",
          "output_type": "stream",
          "text": [
            "/usr/local/lib/python3.11/dist-packages/huggingface_hub/utils/_auth.py:94: UserWarning: \n",
            "The secret `HF_TOKEN` does not exist in your Colab secrets.\n",
            "To authenticate with the Hugging Face Hub, create a token in your settings tab (https://huggingface.co/settings/tokens), set it as secret in your Google Colab and restart your session.\n",
            "You will be able to reuse this secret in all of your notebooks.\n",
            "Please note that authentication is recommended but still optional to access public models or datasets.\n",
            "  warnings.warn(\n"
          ]
        },
        {
          "name": "stdout",
          "output_type": "stream",
          "text": [
            "Embeddings prepared for knowledge base\n",
            "Knowledge base saved to knowledge_base.json\n",
            "\n",
            "=== Modular Chatbot Ready ===\n",
            "Type 'exit' to end the conversation\n",
            "Use 'learn: your question | your answer' to teach me something new\n",
            "============================\n",
            "\n",
            "Chatbot: I don't have enough information to answer that properly.\n",
            "(Confidence: -1.00)\n",
            "Chatbot: I'm not sure I understand. Could you rephrase your question?\n",
            "(Confidence: -1.00)\n",
            "Chatbot: That's an interesting question, but I'm not confident in my answer.\n",
            "(Confidence: -1.00)\n",
            "Chatbot: I don't have enough information to answer that properly.\n",
            "(Confidence: -1.00)\n"
          ]
        }
      ],
      "source": [
        "if __name__ == \"__main__\":\n",
        "    start_chat()"
      ]
    },
    {
      "cell_type": "code",
      "execution_count": null,
      "metadata": {
        "id": "h72Zsw1AiYvL"
      },
      "outputs": [],
      "source": []
    }
  ],
  "metadata": {
    "colab": {
      "provenance": [],
      "authorship_tag": "ABX9TyO+PmtMEmJyeTGaS0X70Cyv",
      "include_colab_link": true
    },
    "kernelspec": {
      "display_name": "Python 3",
      "name": "python3"
    },
    "language_info": {
      "name": "python"
    }
  },
  "nbformat": 4,
  "nbformat_minor": 0
}